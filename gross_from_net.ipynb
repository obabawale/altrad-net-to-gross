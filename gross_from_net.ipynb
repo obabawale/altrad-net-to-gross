{
 "cells": [
  {
   "cell_type": "code",
   "execution_count": 2,
   "metadata": {},
   "outputs": [],
   "source": [
    "# Import the necessary libraries\n",
    "from scipy.optimize import minimize\n",
    "import math\n"
   ]
  },
  {
   "cell_type": "code",
   "execution_count": 3,
   "metadata": {},
   "outputs": [],
   "source": [
    "\n",
    "def calculate_pension(basic, housing_allowance, transport_allowance):\n",
    "    \"\"\"\n",
    "    Calculate the pension contribution based on basic salary and allowances.\n",
    "\n",
    "    Args:\n",
    "        basic (float): Basic salary portion of the gross income.\n",
    "        housing_allowance (float): Housing allowance.\n",
    "        transport_allowance (float): Transport allowance.\n",
    "\n",
    "    Returns:\n",
    "        float: The total pension contribution.\n",
    "    \"\"\"\n",
    "    # Pension is calculated as 8% of basic, housing, and transport allowances\n",
    "    return 0.08 * basic + 0.08 * housing_allowance + 0.08 * transport_allowance\n",
    "\n"
   ]
  },
  {
   "cell_type": "code",
   "execution_count": 4,
   "metadata": {},
   "outputs": [],
   "source": [
    "\n",
    "def calculate_paye_tax(gross_income, pension):\n",
    "    \"\"\"\n",
    "    Calculate the PAYE (Pay As You Earn) tax based on gross income and pension contribution.\n",
    "\n",
    "    Args:\n",
    "        gross_income (float): Total gross income.\n",
    "        pension (float): Pension contribution deducted from the gross income.\n",
    "\n",
    "    Returns:\n",
    "        float: The total PAYE tax.\n",
    "    \"\"\"\n",
    "    # Calculate contributions for CRF (Contributory Relief Fund) and GRF (General Relief Fund)\n",
    "    CRF = max(0.01 * gross_income, 200000)\n",
    "    GRF = 0.2 * gross_income\n",
    "    \n",
    "    # Taxable income is gross income minus CRF, GRF, and pension contributions\n",
    "    taxable_income = gross_income - CRF - GRF - pension\n",
    "\n",
    "    # Calculate PAYE tax based on taxable income brackets\n",
    "    tax = 0.07 * min(300000, taxable_income) + \\\n",
    "          0.11 * min(300000, max(taxable_income - 300000, 0)) + \\\n",
    "          0.15 * min(500000, max(taxable_income - 600000, 0)) + \\\n",
    "          0.19 * min(500000, max(taxable_income - 1100000, 0)) + \\\n",
    "          0.21 * min(1600000, max(taxable_income - 1600000, 0)) + \\\n",
    "          0.24 * max(0, taxable_income - 3200000)\n",
    "    return tax\n"
   ]
  },
  {
   "cell_type": "code",
   "execution_count": 8,
   "metadata": {},
   "outputs": [],
   "source": [
    "\n",
    "def calculate_gross_from_net(net_income, housing_allowance, transport_allowance, other_allowances):\n",
    "    \"\"\"\n",
    "    Determines the gross income from net income using optimization to minimize the objective function.\n",
    "\n",
    "    Args:\n",
    "        net_income (float): The net income entered by the user.\n",
    "        housing_allowance (float): Housing allowance.\n",
    "        transport_allowance (float): Transport allowance.\n",
    "        other_allowances (dict): A dictionary containing other allowances.\n",
    "\n",
    "    Returns:\n",
    "        float: The estimated gross income calculated by minimizing the difference between computed and actual net income.\n",
    "    \"\"\"\n",
    "    # Define the objective function for optimization\n",
    "    def objective_function(gross):\n",
    "        # Calculate total allowances and basic salary\n",
    "        total_allowances = sum(other_allowances.values()) + housing_allowance + transport_allowance\n",
    "        # basic = gross[0] - total_allowances\n",
    "        basic = 0.5 * gross[0] # (CHECK: as suggested by the accounting expert)\n",
    "        \n",
    "        # Calculate pension and PAYE tax based on gross income\n",
    "        pension = calculate_pension(basic, housing_allowance, transport_allowance)\n",
    "        paye_tax = calculate_paye_tax(gross[0], pension)\n",
    "        \n",
    "        # The objective function to minimize: the square of the difference between actual net income and calculated net\n",
    "        return math.pow(( gross[0] - net_income - pension - paye_tax ), 2)\n",
    "    \n",
    "    # Initial guess for the optimizer\n",
    "    initial_guess = [net_income * 1.4]\n",
    "    \n",
    "    # Perform the optimization to minimize the objective function\n",
    "    result = minimize(objective_function, initial_guess, method='SLSQP', bounds=[(net_income, None)])\n",
    "    \n",
    "    # Check if optimization was successful and return the estimated gross income\n",
    "    if result.success:\n",
    "        return result.x[0]\n",
    "    else:\n",
    "        raise ValueError(\"Optimization did not converge\")\n"
   ]
  },
  {
   "cell_type": "code",
   "execution_count": 9,
   "metadata": {},
   "outputs": [],
   "source": [
    "\n",
    "def main():\n",
    "    \"\"\"\n",
    "    Main function to interact with the user and compute the gross income from provided net income and allowances.\n",
    "    \"\"\"\n",
    "    # Collect allowance inputs from the user\n",
    "    housing = int(input(\"Enter housing allowance: \"))\n",
    "    transport = int(input(\"Enter transport allowance: \"))\n",
    "    other_allowances = {\n",
    "        \"Education\": int(input(\"Enter education allowance: \")),\n",
    "        \"Incentive\": int(input(\"Enter incentive allowance: \")),\n",
    "        \"Productivity\": int(input(\"Enter productivity allowance: \")),\n",
    "        \"Non-Strike\": int(input(\"Enter non-strike allowance: \")),\n",
    "        \"Performance\": int(input(\"Enter performance allowance: \"))\n",
    "    }\n",
    "    # Collect net income input"
   ]
  },
  {
   "cell_type": "markdown",
   "metadata": {},
   "source": [
    "To demonstrate the computation of gross from net salary using the provided code, let's assume some values for the inputs:\n",
    "- Housing allowance: $15,000\n",
    "- Transport allowance: $5,000\n",
    "- Other allowances:\n",
    "    - Education: $10,000\n",
    "    - Incentive: $8,000\n",
    "    - Productivity: $6,000\n",
    "    - Non-Strike: $4,000\n",
    "    - Performance: $12,000\n",
    "- Net income: $1,600,000\n",
    "\n",
    "We'll plug these values into the calculate_gross_from_net function to compute the gross salary. Let's proceed with the calculation."
   ]
  },
  {
   "cell_type": "code",
   "execution_count": 18,
   "metadata": {},
   "outputs": [
    {
     "data": {
      "text/plain": [
       "1818656.0"
      ]
     },
     "execution_count": 18,
     "metadata": {},
     "output_type": "execute_result"
    }
   ],
   "source": [
    "# Example inputs\n",
    "\n",
    "housing_allowance = 15000\n",
    "transport_allowance = 5000\n",
    "other_allowances = {\n",
    "    \"Education\": 10000,\n",
    "    \"Incentive\": 8000,\n",
    "    \"Productivity\": 6000,\n",
    "    \"Non-Strike\": 4000,\n",
    "    \"Performance\": 12000\n",
    "}\n",
    "\n",
    "net_income = 1600000\n",
    "\n",
    "# Calculate gross from net\n",
    "calculate_gross_from_net(net_income, housing_allowance, transport_allowance, other_allowances).round(0)"
   ]
  }
 ],
 "metadata": {
  "kernelspec": {
   "display_name": "ams517",
   "language": "python",
   "name": "python3"
  },
  "language_info": {
   "codemirror_mode": {
    "name": "ipython",
    "version": 3
   },
   "file_extension": ".py",
   "mimetype": "text/x-python",
   "name": "python",
   "nbconvert_exporter": "python",
   "pygments_lexer": "ipython3",
   "version": "3.12.1"
  }
 },
 "nbformat": 4,
 "nbformat_minor": 2
}
